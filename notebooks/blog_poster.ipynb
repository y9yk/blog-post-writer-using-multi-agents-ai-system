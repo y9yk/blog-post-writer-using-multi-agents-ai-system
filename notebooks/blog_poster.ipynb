{
 "cells": [
  {
   "cell_type": "markdown",
   "metadata": {},
   "source": [
    "# Architecture"
   ]
  },
  {
   "cell_type": "markdown",
   "metadata": {},
   "source": [
    "글을 쓰기 위한 과정을 생각해보면 아래와 같을 수 있다.\n",
    "\n",
    "- 1) initial research\n",
    "  - topic과 관련한 다양한 웹 사이트를 방문하면서 knowledge base를 만든다.\n",
    "    - 방문한 웹 페이지의 URL, 해당 웹 페이지의 내용의 원문, 그리고 topic과 연관된 문장들로만 구성된 내용은 저장된다.\n",
    "    - 방문한 웹 페이지의 URL -> visited_urls에 저장된다.\n",
    "      - global_urls도 같이 운영한다.\n",
    "    - topic과 연관된 문장들로만 구성된 내용 -> global_context로 저장된다.\n",
    "      - context는 global_context와 local_context로 구성된다.\n",
    "\n",
    "- 2) introduction writer\n",
    "  - 1번에서 작성된 global_context를 기준으로 introduction을 쓴다.\n",
    "\n",
    "- 3) sub-queries generator\n",
    "  - 1번의 globla_context를 기준으로 sub-queries를 생산하는 역할을 수행한다.\n",
    "  - subtopics는 정확히는 topic과 관련된 sub-queries들이다.\n",
    "  \n",
    "- 4) research to use sub-queries\n",
    "  - sub-queies를 기준으로 1번을 재수행한다.\n",
    "    - global_context는 모두 local_context로 들어가서, 해당 context를 참고해서 research가 진행될 수 있도록 한다.\n",
    "    - existing_headers를 운영하면서, 내용이 중복되지 않도록 만전을 기한다.\n",
    "  - 생성된 sub_query_report는 모두 sub_query_reports로 머지된다.\n",
    "  - research가 다 끝나면 local_context는 다시 global_context로 머지된다.\n",
    "\n",
    "- 5) finalize\n",
    "  - existing_headers를 toc로 구성한다.\n",
    "  - global_urls를 모두 refereces로 구성한다.\n",
    "  - 아래의 내용을 모두 merge한다.\n",
    "    - toc\n",
    "    - introduction\n",
    "    - sub_query_reports\n",
    "    - references"
   ]
  }
 ],
 "metadata": {
  "kernelspec": {
   "display_name": ".venv",
   "language": "python",
   "name": "python3"
  },
  "language_info": {
   "codemirror_mode": {
    "name": "ipython",
    "version": 3
   },
   "file_extension": ".py",
   "mimetype": "text/x-python",
   "name": "python",
   "nbconvert_exporter": "python",
   "pygments_lexer": "ipython3",
   "version": "3.10.8"
  }
 },
 "nbformat": 4,
 "nbformat_minor": 2
}
