{
 "cells": [
  {
   "cell_type": "markdown",
   "metadata": {},
   "source": [
    "## Markdown2Json"
   ]
  },
  {
   "cell_type": "code",
   "execution_count": 29,
   "metadata": {},
   "outputs": [],
   "source": [
    "import json\n",
    "import markdown_to_json\n",
    "\n",
    "resource_path = \"../resources/20240707/research.md\"\n",
    "with open(resource_path, \"r\") as f:\n",
    "    ret = f.read()\n",
    "\n",
    "ret = markdown_to_json.jsonify(ret)\n",
    "ret = json.loads(ret)"
   ]
  },
  {
   "cell_type": "code",
   "execution_count": 39,
   "metadata": {},
   "outputs": [
    {
     "data": {
      "text/plain": [
       "[{'1. LLM Multi Agents란 무엇인가?': {'1.1 주요 프레임워크 소개': ['**AgentScope**',\n",
       "    ['[AgentScope GitHub Repository](https://github.com/modelscope/agentscope)',\n",
       "     '주요 기능: 쉬운 사용성, 높은 안정성, 액터 기반 분산 처리',\n",
       "     '설치 방법: pip 및 소스 코드 설치 방법 설명',\n",
       "     '예제 코드:',\n",
       "     '```\\nfrom agentscope.agents import DialogAgent, UserAgent\\nimport agentscope\\n\\nagentscope.init(model_configs=\"./model_configs.json\")\\n\\ndialog_agent = DialogAgent(name=\"assistant\", model_config_name=\"my_openai_config\")\\nuser_agent = UserAgent()\\n\\nx = None\\nwhile True:\\n    x = dialog_agent(x)\\n    x = user_agent(x)\\n    if x.content == \"exit\":\\n        break\\n```'],\n",
       "    '**MetaGPT**',\n",
       "    ['[MetaGPT GitHub Repository](https://github.com/geekan/MetaGPT)',\n",
       "     '주요 기능: 자연어 프로그래밍을 위한 다중 에이전트 프레임워크',\n",
       "     '설치 방법 및 예제 코드 설명']]}},\n",
       " {'2. CrewAI를 사용하여 블로그 포스트 작성하기': ['CrewAI 소개: CrewAI의 기능과 장점 설명',\n",
       "   'CrewAI 설치 및 설정',\n",
       "   ['설치 방법: pip 설치 방법', '초기 설정: API 키 설정 등'],\n",
       "   '블로그 포스트 작성 과정',\n",
       "   ['주제 선택 및 키워드 분석',\n",
       "    '콘텐츠 생성: CrewAI를 활용한 자동 생성 기능 설명',\n",
       "    '포스트 편집 및 최적화: 생성된 콘텐츠의 편집 및 SEO 최적화 방법']]}]"
      ]
     },
     "execution_count": 39,
     "metadata": {},
     "output_type": "execute_result"
    }
   ],
   "source": [
    "topic = list(ret.keys())[-1]\n",
    "main_text = ret.get(topic).get(\"본론\") \n",
    "\n",
    "import itertools\n",
    "\n",
    "t = []\n",
    "for i in range(len(main_text.keys())):\n",
    "    t.append(\n",
    "        dict(itertools.islice(main_text.items(), i, i+1))\n",
    "    )\n",
    "\n",
    "t\n"
   ]
  },
  {
   "cell_type": "code",
   "execution_count": 41,
   "metadata": {},
   "outputs": [
    {
     "data": {
      "text/plain": [
       "{'1. LLM Multi Agents란 무엇인가?': {'1.1 주요 프레임워크 소개': ['**AgentScope**',\n",
       "   ['[AgentScope GitHub Repository](https://github.com/modelscope/agentscope)',\n",
       "    '주요 기능: 쉬운 사용성, 높은 안정성, 액터 기반 분산 처리',\n",
       "    '설치 방법: pip 및 소스 코드 설치 방법 설명',\n",
       "    '예제 코드:',\n",
       "    '```\\nfrom agentscope.agents import DialogAgent, UserAgent\\nimport agentscope\\n\\nagentscope.init(model_configs=\"./model_configs.json\")\\n\\ndialog_agent = DialogAgent(name=\"assistant\", model_config_name=\"my_openai_config\")\\nuser_agent = UserAgent()\\n\\nx = None\\nwhile True:\\n    x = dialog_agent(x)\\n    x = user_agent(x)\\n    if x.content == \"exit\":\\n        break\\n```'],\n",
       "   '**MetaGPT**',\n",
       "   ['[MetaGPT GitHub Repository](https://github.com/geekan/MetaGPT)',\n",
       "    '주요 기능: 자연어 프로그래밍을 위한 다중 에이전트 프레임워크',\n",
       "    '설치 방법 및 예제 코드 설명']]}}"
      ]
     },
     "execution_count": 41,
     "metadata": {},
     "output_type": "execute_result"
    }
   ],
   "source": [
    "t[0]"
   ]
  },
  {
   "cell_type": "code",
   "execution_count": 44,
   "metadata": {},
   "outputs": [
    {
     "name": "stderr",
     "output_type": "stream",
     "text": [
      "2024-07-12 17:31:21,057 - 140704326772480 - __init__.py-__init__:518 - WARNING: Overriding of current TracerProvider is not allowed\n"
     ]
    },
    {
     "name": "stdout",
     "output_type": "stream",
     "text": [
      "\n",
      "\n",
      "\u001b[1m> Entering new CrewAgentExecutor chain...\u001b[0m\n"
     ]
    },
    {
     "name": "stderr",
     "output_type": "stream",
     "text": [
      "2024-07-12 17:31:21,818 - 140704326772480 - manager.py-manager:282 - WARNING: Error in TokenCalcHandler.on_llm_start callback: KeyError('Could not automatically map gpt-4o to a tokeniser. Please use `tiktoken.get_encoding` to explicitly get the tokeniser you expect.')\n",
      "2024-07-12 17:31:28,395 - 140704326772480 - manager.py-manager:282 - WARNING: Error in TokenCalcHandler.on_llm_start callback: KeyError('Could not automatically map gpt-4o to a tokeniser. Please use `tiktoken.get_encoding` to explicitly get the tokeniser you expect.')\n"
     ]
    },
    {
     "name": "stdout",
     "output_type": "stream",
     "text": [
      "\u001b[32;1m\u001b[1;3mThought: I now can give a great answer\n",
      "Final Answer: \n",
      "\n",
      "# LLM Multi Agents란 무엇인가?\n",
      "\n",
      "## 1.1 주요 프레임워크 소개\n",
      "\n",
      "### **AgentScope**\n",
      "\n",
      "- [AgentScope GitHub Repository](https://github.com/modelscope/agentscope)\n",
      "- 주요 기능: 쉬운 사용성, 높은 안정성, 액터 기반 분산 처리\n",
      "- 설치 방법: pip 및 소스 코드 설치 방법 설명\n",
      "- 예제 코드:\n",
      "  ```python\n",
      "  from agentscope.agents import DialogAgent, UserAgent\n",
      "  import agentscope\n",
      "  \n",
      "  agentscope.init(model_configs=\"./model_configs.json\")\n",
      "  \n",
      "  dialog_agent = DialogAgent(name=\"assistant\", model_config_name=\"my_openai_config\")\n",
      "  user_agent = UserAgent()\n",
      "  \n",
      "  x = None\n",
      "  while True:\n",
      "      x = dialog_agent(x)\n",
      "      x = user_agent(x)\n",
      "      if x.content == \"exit\":\n",
      "          break\n",
      "  ```\n",
      "\n",
      "### **MetaGPT**\n",
      "\n",
      "- [MetaGPT GitHub Repository](https://github.com/geekan/MetaGPT)\n",
      "- 주요 기능: 자연어 프로그래밍을 위한 다중 에이전트 프레임워크\n",
      "- 설치 방법 및 예제 코드 설명\u001b[0m\n",
      "\n",
      "\u001b[1m> Finished chain.\u001b[0m\n"
     ]
    },
    {
     "data": {
      "text/plain": [
       "'# LLM Multi Agents란 무엇인가?\\n\\n## 1.1 주요 프레임워크 소개\\n\\n### **AgentScope**\\n\\n- [AgentScope GitHub Repository](https://github.com/modelscope/agentscope)\\n- 주요 기능: 쉬운 사용성, 높은 안정성, 액터 기반 분산 처리\\n- 설치 방법: pip 및 소스 코드 설치 방법 설명\\n- 예제 코드:\\n  ```python\\n  from agentscope.agents import DialogAgent, UserAgent\\n  import agentscope\\n  \\n  agentscope.init(model_configs=\"./model_configs.json\")\\n  \\n  dialog_agent = DialogAgent(name=\"assistant\", model_config_name=\"my_openai_config\")\\n  user_agent = UserAgent()\\n  \\n  x = None\\n  while True:\\n      x = dialog_agent(x)\\n      x = user_agent(x)\\n      if x.content == \"exit\":\\n          break\\n  ```\\n\\n### **MetaGPT**\\n\\n- [MetaGPT GitHub Repository](https://github.com/geekan/MetaGPT)\\n- 주요 기능: 자연어 프로그래밍을 위한 다중 에이전트 프레임워크\\n- 설치 방법 및 예제 코드 설명'"
      ]
     },
     "execution_count": 44,
     "metadata": {},
     "output_type": "execute_result"
    }
   ],
   "source": [
    "import sys\n",
    "sys.path.append(\"../\")\n",
    "\n",
    "from crewai import Crew\n",
    "\n",
    "from modules.agents import BaseAgent\n",
    "\n",
    "\n",
    "class MarkdownConverter(BaseAgent):\n",
    "    def __init__(self):\n",
    "        super().__init__()\n",
    "        self.agent = self._get_agent(\n",
    "            role=\"Markdown Converter\",\n",
    "            goal=\"주어진 인풋을 마크다운으로 변환한다.\",\n",
    "            backstory=\"주어진 인풋을 마크다운으로 변환한다.\",\n",
    "            verbose=True,\n",
    "        )\n",
    "\n",
    "    def kickoff(self, string):\n",
    "        crew = Crew(\n",
    "            agents=[self.agent],\n",
    "            tasks=[\n",
    "                self._get_task(\n",
    "                    agent=self.agent,\n",
    "                    description=\"{string}을 마크다운으로 변환한다\",\n",
    "                    expected_output=\"마크다운\",\n",
    "                )\n",
    "            ]\n",
    "        )\n",
    "\n",
    "        result = crew.kickoff(\n",
    "            inputs={\n",
    "                \"string\": string\n",
    "            }\n",
    "        )\n",
    "\n",
    "        return result\n",
    "    \n",
    "\n",
    "converter = MarkdownConverter()\n",
    "converter.kickoff(string=t[0])"
   ]
  }
 ],
 "metadata": {
  "kernelspec": {
   "display_name": ".venv",
   "language": "python",
   "name": "python3"
  },
  "language_info": {
   "codemirror_mode": {
    "name": "ipython",
    "version": 3
   },
   "file_extension": ".py",
   "mimetype": "text/x-python",
   "name": "python",
   "nbconvert_exporter": "python",
   "pygments_lexer": "ipython3",
   "version": "3.10.8"
  }
 },
 "nbformat": 4,
 "nbformat_minor": 2
}
